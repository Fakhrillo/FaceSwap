{
  "nbformat": 4,
  "nbformat_minor": 0,
  "metadata": {
    "colab": {
      "provenance": [],
      "gpuType": "T4"
    },
    "kernelspec": {
      "name": "python3",
      "display_name": "Python 3"
    },
    "language_info": {
      "name": "python"
    },
    "accelerator": "GPU"
  },
  "cells": [
    {
      "cell_type": "code",
      "execution_count": null,
      "metadata": {
        "id": "t1yPuhdySqCq"
      },
      "outputs": [],
      "source": [
        "!git clone https://github.com/Fakhrillo/FaceSwap\n",
        "%cd FaceSwap\n",
        "\n",
        "!pip install onnxruntime-gpu && pip install -r requirements.txt\n",
        "!pip install onnxruntime-gpu --upgrade\n",
        "!apt-get update --yes\n",
        "!apt install nvidia-cuda-toolkit --yes"
      ]
    },
    {
      "cell_type": "code",
      "source": [
        "%cd \"/content/FaceSwap\"\n",
        "!python run.py -s \"media/Angelina.jpg\" -t \"media/opa_model.mp4\" -o \"media/face_swapped.mp4\" --keep-frames --keep-fps --temp-frame-quality 1 --output-video-quality 1 --execution-provider cuda --frame-processor face_swapper face_enhancer"
      ],
      "metadata": {
        "id": "_j18G_uPqc37",
        "colab": {
          "base_uri": "https://localhost:8080/"
        },
        "outputId": "105c614a-8af7-4a1f-f443-d5a46129cbbe"
      },
      "execution_count": 14,
      "outputs": [
        {
          "output_type": "stream",
          "name": "stdout",
          "text": [
            "/content/FaceSwap\n",
            "Downloading: 529MB [00:02, 214MB/s]               \n",
            "Downloading: 332MB [00:01, 196MB/s]               \n",
            "download_path: /root/.insightface/models/buffalo_l\n",
            "Downloading /root/.insightface/models/buffalo_l.zip from https://github.com/deepinsight/insightface/releases/download/v0.7/buffalo_l.zip...\n",
            "100% 281857/281857 [00:05<00:00, 51361.81KB/s]\n",
            "Applied providers: ['CUDAExecutionProvider', 'CPUExecutionProvider'], with options: {'CPUExecutionProvider': {}, 'CUDAExecutionProvider': {'tunable_op_max_tuning_duration_ms': '0', 'enable_skip_layer_norm_strict_mode': '0', 'tunable_op_tuning_enable': '0', 'device_id': '0', 'has_user_compute_stream': '0', 'gpu_mem_limit': '18446744073709551615', 'gpu_external_alloc': '0', 'gpu_external_free': '0', 'gpu_external_empty_cache': '0', 'cudnn_conv_algo_search': 'EXHAUSTIVE', 'cudnn_conv1d_pad_to_nc1d': '0', 'arena_extend_strategy': 'kNextPowerOfTwo', 'do_copy_in_default_stream': '1', 'enable_cuda_graph': '0', 'cudnn_conv_use_max_workspace': '1', 'tunable_op_enable': '0'}}\n",
            "find model: /root/.insightface/models/buffalo_l/1k3d68.onnx landmark_3d_68 ['None', 3, 192, 192] 0.0 1.0\n",
            "Applied providers: ['CUDAExecutionProvider', 'CPUExecutionProvider'], with options: {'CPUExecutionProvider': {}, 'CUDAExecutionProvider': {'tunable_op_max_tuning_duration_ms': '0', 'enable_skip_layer_norm_strict_mode': '0', 'tunable_op_tuning_enable': '0', 'device_id': '0', 'has_user_compute_stream': '0', 'gpu_mem_limit': '18446744073709551615', 'gpu_external_alloc': '0', 'gpu_external_free': '0', 'gpu_external_empty_cache': '0', 'cudnn_conv_algo_search': 'EXHAUSTIVE', 'cudnn_conv1d_pad_to_nc1d': '0', 'arena_extend_strategy': 'kNextPowerOfTwo', 'do_copy_in_default_stream': '1', 'enable_cuda_graph': '0', 'cudnn_conv_use_max_workspace': '1', 'tunable_op_enable': '0'}}\n",
            "find model: /root/.insightface/models/buffalo_l/2d106det.onnx landmark_2d_106 ['None', 3, 192, 192] 0.0 1.0\n",
            "Applied providers: ['CUDAExecutionProvider', 'CPUExecutionProvider'], with options: {'CPUExecutionProvider': {}, 'CUDAExecutionProvider': {'tunable_op_max_tuning_duration_ms': '0', 'enable_skip_layer_norm_strict_mode': '0', 'tunable_op_tuning_enable': '0', 'device_id': '0', 'has_user_compute_stream': '0', 'gpu_mem_limit': '18446744073709551615', 'gpu_external_alloc': '0', 'gpu_external_free': '0', 'gpu_external_empty_cache': '0', 'cudnn_conv_algo_search': 'EXHAUSTIVE', 'cudnn_conv1d_pad_to_nc1d': '0', 'arena_extend_strategy': 'kNextPowerOfTwo', 'do_copy_in_default_stream': '1', 'enable_cuda_graph': '0', 'cudnn_conv_use_max_workspace': '1', 'tunable_op_enable': '0'}}\n",
            "find model: /root/.insightface/models/buffalo_l/det_10g.onnx detection [1, 3, '?', '?'] 127.5 128.0\n",
            "Applied providers: ['CUDAExecutionProvider', 'CPUExecutionProvider'], with options: {'CPUExecutionProvider': {}, 'CUDAExecutionProvider': {'tunable_op_max_tuning_duration_ms': '0', 'enable_skip_layer_norm_strict_mode': '0', 'tunable_op_tuning_enable': '0', 'device_id': '0', 'has_user_compute_stream': '0', 'gpu_mem_limit': '18446744073709551615', 'gpu_external_alloc': '0', 'gpu_external_free': '0', 'gpu_external_empty_cache': '0', 'cudnn_conv_algo_search': 'EXHAUSTIVE', 'cudnn_conv1d_pad_to_nc1d': '0', 'arena_extend_strategy': 'kNextPowerOfTwo', 'do_copy_in_default_stream': '1', 'enable_cuda_graph': '0', 'cudnn_conv_use_max_workspace': '1', 'tunable_op_enable': '0'}}\n",
            "find model: /root/.insightface/models/buffalo_l/genderage.onnx genderage ['None', 3, 96, 96] 0.0 1.0\n",
            "Applied providers: ['CUDAExecutionProvider', 'CPUExecutionProvider'], with options: {'CPUExecutionProvider': {}, 'CUDAExecutionProvider': {'tunable_op_max_tuning_duration_ms': '0', 'enable_skip_layer_norm_strict_mode': '0', 'tunable_op_tuning_enable': '0', 'device_id': '0', 'has_user_compute_stream': '0', 'gpu_mem_limit': '18446744073709551615', 'gpu_external_alloc': '0', 'gpu_external_free': '0', 'gpu_external_empty_cache': '0', 'cudnn_conv_algo_search': 'EXHAUSTIVE', 'cudnn_conv1d_pad_to_nc1d': '0', 'arena_extend_strategy': 'kNextPowerOfTwo', 'do_copy_in_default_stream': '1', 'enable_cuda_graph': '0', 'cudnn_conv_use_max_workspace': '1', 'tunable_op_enable': '0'}}\n",
            "find model: /root/.insightface/models/buffalo_l/w600k_r50.onnx recognition ['None', 3, 112, 112] 127.5 127.5\n",
            "set det-size: (640, 640)\n",
            "Pre-trained weights will be downloaded.\n",
            "Downloading...\n",
            "From: https://github.com/bhky/opennsfw2/releases/download/v0.1.0/open_nsfw_weights.h5\n",
            "To: /root/.opennsfw2/weights/open_nsfw_weights.h5\n",
            "100% 24.2M/24.2M [00:00<00:00, 36.5MB/s]\n",
            "100% 284/284 [00:05<00:00, 52.47it/s] \n",
            "[ROOP.CORE] Creating temporary resources...\n",
            "[ROOP.CORE] Extracting frames with 30.0 FPS...\n",
            "[ROOP.FACE-SWAPPER] Progressing...\n",
            "Processing:   0% 0/284 [00:00<?, ?frame/s]Applied providers: ['CUDAExecutionProvider', 'CPUExecutionProvider'], with options: {'CPUExecutionProvider': {}, 'CUDAExecutionProvider': {'tunable_op_max_tuning_duration_ms': '0', 'enable_skip_layer_norm_strict_mode': '0', 'tunable_op_tuning_enable': '0', 'device_id': '0', 'has_user_compute_stream': '0', 'gpu_mem_limit': '18446744073709551615', 'gpu_external_alloc': '0', 'gpu_external_free': '0', 'gpu_external_empty_cache': '0', 'cudnn_conv_algo_search': 'EXHAUSTIVE', 'cudnn_conv1d_pad_to_nc1d': '0', 'arena_extend_strategy': 'kNextPowerOfTwo', 'do_copy_in_default_stream': '1', 'enable_cuda_graph': '0', 'cudnn_conv_use_max_workspace': '1', 'tunable_op_enable': '0'}}\n",
            "Processing:   1% 3/284 [00:02<02:27,  1.91frame/s, memory_usage=03.94GB, execution_providers=['CUDAExecutionProvider'], execution_threads=8]inswapper-shape: [1, 3, 128, 128]\n",
            "Processing: 100% 284/284 [01:23<00:00,  3.41frame/s, memory_usage=04.18GB, execution_providers=['CUDAExecutionProvider'], execution_threads=8]\n",
            "[ROOP.FACE-ENHANCER] Progressing...\n",
            "Processing:   0% 0/284 [00:00<?, ?frame/s]Downloading: \"https://github.com/xinntao/facexlib/releases/download/v0.1.0/detection_Resnet50_Final.pth\" to /content/FaceSwap/gfpgan/weights/detection_Resnet50_Final.pth\n",
            "\n",
            "\n",
            "  0% 0.00/104M [00:00<?, ?B/s]\u001b[A\n",
            " 11% 11.8M/104M [00:00<00:00, 124MB/s]\u001b[A\n",
            " 37% 38.2M/104M [00:00<00:00, 214MB/s]\u001b[A\n",
            " 61% 64.0M/104M [00:00<00:00, 239MB/s]\u001b[A\n",
            "100% 104M/104M [00:00<00:00, 224MB/s] \n",
            "Downloading: \"https://github.com/xinntao/facexlib/releases/download/v0.2.2/parsing_parsenet.pth\" to /content/FaceSwap/gfpgan/weights/parsing_parsenet.pth\n",
            "\n",
            "\n",
            "  0% 0.00/81.4M [00:00<?, ?B/s]\u001b[A\n",
            " 14% 11.5M/81.4M [00:00<00:00, 120MB/s]\u001b[A\n",
            " 44% 35.5M/81.4M [00:00<00:00, 197MB/s]\u001b[A\n",
            " 67% 54.3M/81.4M [00:00<00:00, 192MB/s]\u001b[A\n",
            "100% 81.4M/81.4M [00:00<00:00, 195MB/s]\n",
            "Processing: 100% 284/284 [02:36<00:00,  1.82frame/s, memory_usage=05.08GB, execution_providers=['CUDAExecutionProvider'], execution_threads=8]\n",
            "[ROOP.CORE] Creating video with 30.0 FPS...\n",
            "[ROOP.CORE] Restoring audio...\n",
            "[ROOP.CORE] Cleaning temporary resources...\n",
            "[ROOP.CORE] Processing to video succeed!\n"
          ]
        }
      ]
    },
    {
      "cell_type": "markdown",
      "source": [
        "### All options are displayed below\n",
        "Append any of them to the above commands before executing\n",
        "```\n",
        "python run.py [options]\n",
        "\n",
        "-h, --help                                                                 show this help message and exit\n",
        "-s SOURCE_PATH, --source SOURCE_PATH                                       select an source image\n",
        "-t TARGET_PATH, --target TARGET_PATH                                       select an target image or video\n",
        "-o OUTPUT_PATH, --output OUTPUT_PATH                                       select output file or directory\n",
        "--frame-processor FRAME_PROCESSOR [FRAME_PROCESSOR ...]                    frame processors (choices: face_swapper, face_enhancer, ...)\n",
        "--keep-fps                                                                 keep target fps\n",
        "--keep-frames                                                              keep temporary frames\n",
        "--skip-audio                                                               skip target audio\n",
        "--many-faces                                                               process every face\n",
        "--reference-face-position REFERENCE_FACE_POSITION                          position of the reference face\n",
        "--reference-frame-number REFERENCE_FRAME_NUMBER                            number of the reference frame\n",
        "--similar-face-distance SIMILAR_FACE_DISTANCE                              face distance used for recognition\n",
        "--temp-frame-format {jpg,png}                                              image format used for frame extraction\n",
        "--temp-frame-quality [0-100]                                               image quality used for frame extraction\n",
        "--output-video-encoder {libx264,libx265,libvpx-vp9,h264_nvenc,hevc_nvenc}  encoder used for the output video\n",
        "--output-video-quality [0-100]                                             quality used for the output video\n",
        "--max-memory MAX_MEMORY                                                    maximum amount of RAM in GB\n",
        "--execution-provider {cpu} [{cpu} ...]                                     available execution provider (choices: cpu, ...)\n",
        "--execution-threads EXECUTION_THREADS                                      number of execution threads\n",
        "-v, --version                                                              show program's version number and exit\n",
        "  ```"
      ],
      "metadata": {
        "id": "jr-63BTn8UEs"
      }
    }
  ]
}